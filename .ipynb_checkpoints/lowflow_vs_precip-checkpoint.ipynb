{
 "cells": [
  {
   "cell_type": "code",
   "execution_count": 1,
   "metadata": {},
   "outputs": [],
   "source": [
    "import pandas as pd \n",
    "import numpy as np\n",
    "import seaborn as sns\n",
    "import matplotlib.pyplot as plt\n",
    "%matplotlib inline\n",
    "from scipy.optimize import curve_fit\n",
    "import glob\n",
    "import pickle\n",
    "import urllib\n",
    "import datetime\n",
    "import scipy\n",
    "from scipy import stats\n",
    "from pylab import *\n",
    "from matplotlib.colors import ListedColormap\n",
    "from matplotlib.ticker import ScalarFormatter, FormatStrFormatter\n",
    "import ee; ee.Initialize()"
   ]
  },
  {
   "cell_type": "code",
   "execution_count": 2,
   "metadata": {},
   "outputs": [],
   "source": [
    "def getFlowTemp(site,start,stop):\n",
    "    url = 'https://waterdata.usgs.gov/nwis/uv?cb_00010=on&cb_00060=on&cb_00065=on&format=rdb&site_no='+site+'&period=&begin_date='+start+'&end_date='+stop\n",
    "    df = pd.read_csv(url, header=31, delim_whitespace=True)\n",
    "    df.columns = ['usgs', 'site', 'datetime', 'q', 'a']\n",
    "    df.index = pd.to_datetime(df.datetime)\n",
    "    df = df[['q']]\n",
    "    df.q = df.q.astype(float, errors='ignore')\n",
    "    df.to_csv('../data/' + site + '.csv')\n",
    "    return df\n",
    "\n",
    "def getFlow(site,start,stop):\n",
    "    url = 'https://waterdata.usgs.gov/nwis/dv?cb_00060=on&format=rdb&site_no=' + site + '&referred_module=sw&period=&begin_date='+start+'&end_date='+stop\n",
    "    df = pd.read_csv(url, header=31, delim_whitespace=True)\n",
    "    df.columns = ['usgs', 'site', 'datetime', 'q', 'a']\n",
    "    df.index = pd.to_datetime(df.datetime)\n",
    "    df = df[['q']]\n",
    "    df.q = df.q.astype(float, errors='ignore')\n",
    "    df.to_csv('../data/' + site + '.csv')\n",
    "    return df\n",
    "\n",
    "def pull_prism(lat,lon,startyear,stopyear):\n",
    "    rvws = ee.Geometry.Point([lon, lat])\n",
    "    def extract(image):\n",
    "        val = image.reduceRegion(ee.Reducer.mean(), rvws)\n",
    "        ft = ee.Feature(rvws, {'ppt':val.get('ppt'), 'date':image.get('system:index')})\n",
    "        return ft\n",
    "    dates, vals = [], []\n",
    "    for year in range(startyear, stopyear+1):\n",
    "        startdate = str(year-1) + '-10-01'\n",
    "        enddate = str(year) + '-09-30'\n",
    "        prism = ee.ImageCollection('OREGONSTATE/PRISM/AN81d').select('ppt').filterDate(startdate, enddate)\n",
    "        rain = prism.map(extract).getInfo()\n",
    "        for item in rain['features']:\n",
    "            props = item['properties']\n",
    "            dates.append(pd.to_datetime(props['date']))\n",
    "            vals.append(props['ppt'])\n",
    "    prism = pd.DataFrame(vals, index=dates, columns=['ppt'])\n",
    "    prism = prism.sort_index()\n",
    "    return prism\n"
   ]
  },
  {
   "cell_type": "code",
   "execution_count": 3,
   "metadata": {},
   "outputs": [
    {
     "ename": "FileNotFoundError",
     "evalue": "[Errno 2] No such file or directory: '../data/elder_rainfall.csv'",
     "output_type": "error",
     "traceback": [
      "\u001b[0;31m---------------------------------------------------------------------------\u001b[0m",
      "\u001b[0;31mFileNotFoundError\u001b[0m                         Traceback (most recent call last)",
      "\u001b[0;32m<ipython-input-3-e7c5c4b9d328>\u001b[0m in \u001b[0;36m<module>\u001b[0;34m\u001b[0m\n\u001b[1;32m      1\u001b[0m \u001b[0mlat\u001b[0m\u001b[0;34m,\u001b[0m\u001b[0mlon\u001b[0m \u001b[0;34m=\u001b[0m \u001b[0;36m39.719368\u001b[0m\u001b[0;34m,\u001b[0m \u001b[0;34m-\u001b[0m\u001b[0;36m123.610090\u001b[0m\u001b[0;34m\u001b[0m\u001b[0;34m\u001b[0m\u001b[0m\n\u001b[1;32m      2\u001b[0m \u001b[0mrainfall\u001b[0m \u001b[0;34m=\u001b[0m \u001b[0mpull_prism\u001b[0m\u001b[0;34m(\u001b[0m\u001b[0mlat\u001b[0m\u001b[0;34m,\u001b[0m\u001b[0mlon\u001b[0m\u001b[0;34m,\u001b[0m\u001b[0;36m2000\u001b[0m\u001b[0;34m,\u001b[0m\u001b[0;36m2019\u001b[0m\u001b[0;34m)\u001b[0m\u001b[0;34m\u001b[0m\u001b[0;34m\u001b[0m\u001b[0m\n\u001b[0;32m----> 3\u001b[0;31m \u001b[0mrainfall\u001b[0m\u001b[0;34m.\u001b[0m\u001b[0mto_csv\u001b[0m\u001b[0;34m(\u001b[0m\u001b[0;34m'../data/elder_rainfall.csv'\u001b[0m\u001b[0;34m)\u001b[0m\u001b[0;34m\u001b[0m\u001b[0;34m\u001b[0m\u001b[0m\n\u001b[0m",
      "\u001b[0;32m/opt/anaconda3/envs/py3k/lib/python3.6/site-packages/pandas/core/generic.py\u001b[0m in \u001b[0;36mto_csv\u001b[0;34m(self, path_or_buf, sep, na_rep, float_format, columns, header, index, index_label, mode, encoding, compression, quoting, quotechar, line_terminator, chunksize, date_format, doublequote, escapechar, decimal)\u001b[0m\n\u001b[1;32m   3226\u001b[0m             \u001b[0mdecimal\u001b[0m\u001b[0;34m=\u001b[0m\u001b[0mdecimal\u001b[0m\u001b[0;34m,\u001b[0m\u001b[0;34m\u001b[0m\u001b[0;34m\u001b[0m\u001b[0m\n\u001b[1;32m   3227\u001b[0m         )\n\u001b[0;32m-> 3228\u001b[0;31m         \u001b[0mformatter\u001b[0m\u001b[0;34m.\u001b[0m\u001b[0msave\u001b[0m\u001b[0;34m(\u001b[0m\u001b[0;34m)\u001b[0m\u001b[0;34m\u001b[0m\u001b[0;34m\u001b[0m\u001b[0m\n\u001b[0m\u001b[1;32m   3229\u001b[0m \u001b[0;34m\u001b[0m\u001b[0m\n\u001b[1;32m   3230\u001b[0m         \u001b[0;32mif\u001b[0m \u001b[0mpath_or_buf\u001b[0m \u001b[0;32mis\u001b[0m \u001b[0;32mNone\u001b[0m\u001b[0;34m:\u001b[0m\u001b[0;34m\u001b[0m\u001b[0;34m\u001b[0m\u001b[0m\n",
      "\u001b[0;32m/opt/anaconda3/envs/py3k/lib/python3.6/site-packages/pandas/io/formats/csvs.py\u001b[0m in \u001b[0;36msave\u001b[0;34m(self)\u001b[0m\n\u001b[1;32m    181\u001b[0m                 \u001b[0mself\u001b[0m\u001b[0;34m.\u001b[0m\u001b[0mmode\u001b[0m\u001b[0;34m,\u001b[0m\u001b[0;34m\u001b[0m\u001b[0;34m\u001b[0m\u001b[0m\n\u001b[1;32m    182\u001b[0m                 \u001b[0mencoding\u001b[0m\u001b[0;34m=\u001b[0m\u001b[0mself\u001b[0m\u001b[0;34m.\u001b[0m\u001b[0mencoding\u001b[0m\u001b[0;34m,\u001b[0m\u001b[0;34m\u001b[0m\u001b[0;34m\u001b[0m\u001b[0m\n\u001b[0;32m--> 183\u001b[0;31m                 \u001b[0mcompression\u001b[0m\u001b[0;34m=\u001b[0m\u001b[0mself\u001b[0m\u001b[0;34m.\u001b[0m\u001b[0mcompression\u001b[0m\u001b[0;34m,\u001b[0m\u001b[0;34m\u001b[0m\u001b[0;34m\u001b[0m\u001b[0m\n\u001b[0m\u001b[1;32m    184\u001b[0m             )\n\u001b[1;32m    185\u001b[0m             \u001b[0mclose\u001b[0m \u001b[0;34m=\u001b[0m \u001b[0;32mTrue\u001b[0m\u001b[0;34m\u001b[0m\u001b[0;34m\u001b[0m\u001b[0m\n",
      "\u001b[0;32m/opt/anaconda3/envs/py3k/lib/python3.6/site-packages/pandas/io/common.py\u001b[0m in \u001b[0;36m_get_handle\u001b[0;34m(path_or_buf, mode, encoding, compression, memory_map, is_text)\u001b[0m\n\u001b[1;32m    397\u001b[0m         \u001b[0;32mif\u001b[0m \u001b[0mencoding\u001b[0m\u001b[0;34m:\u001b[0m\u001b[0;34m\u001b[0m\u001b[0;34m\u001b[0m\u001b[0m\n\u001b[1;32m    398\u001b[0m             \u001b[0;31m# Encoding\u001b[0m\u001b[0;34m\u001b[0m\u001b[0;34m\u001b[0m\u001b[0;34m\u001b[0m\u001b[0m\n\u001b[0;32m--> 399\u001b[0;31m             \u001b[0mf\u001b[0m \u001b[0;34m=\u001b[0m \u001b[0mopen\u001b[0m\u001b[0;34m(\u001b[0m\u001b[0mpath_or_buf\u001b[0m\u001b[0;34m,\u001b[0m \u001b[0mmode\u001b[0m\u001b[0;34m,\u001b[0m \u001b[0mencoding\u001b[0m\u001b[0;34m=\u001b[0m\u001b[0mencoding\u001b[0m\u001b[0;34m,\u001b[0m \u001b[0mnewline\u001b[0m\u001b[0;34m=\u001b[0m\u001b[0;34m\"\"\u001b[0m\u001b[0;34m)\u001b[0m\u001b[0;34m\u001b[0m\u001b[0;34m\u001b[0m\u001b[0m\n\u001b[0m\u001b[1;32m    400\u001b[0m         \u001b[0;32melif\u001b[0m \u001b[0mis_text\u001b[0m\u001b[0;34m:\u001b[0m\u001b[0;34m\u001b[0m\u001b[0;34m\u001b[0m\u001b[0m\n\u001b[1;32m    401\u001b[0m             \u001b[0;31m# No explicit encoding\u001b[0m\u001b[0;34m\u001b[0m\u001b[0;34m\u001b[0m\u001b[0;34m\u001b[0m\u001b[0m\n",
      "\u001b[0;31mFileNotFoundError\u001b[0m: [Errno 2] No such file or directory: '../data/elder_rainfall.csv'"
     ]
    }
   ],
   "source": [
    "lat,lon = 39.719368, -123.610090\n",
    "rainfall = pull_prism(lat,lon,2000,2019)\n",
    "rainfall.to_csv('../data/elder_rainfall.csv')"
   ]
  },
  {
   "cell_type": "code",
   "execution_count": null,
   "metadata": {},
   "outputs": [],
   "source": [
    "rainfall = pd.read_csv('../data/elder_rainfall.csv', index_col=0,parse_dates=True)\n",
    "elder = getFlow('11475560','2000-01-01','2019-12-30')\n",
    "elder = elder[['q']]*2.447e+12 # convert to mm^3/day\n",
    "area = 16.8 * 1e+12 # convert to mm/day\n",
    "elder = elder/area\n",
    "\n",
    "# get water year\n",
    "elder['wy'] = [item.year+1 if (item.month<=12)&(item.month>=10) else item.year for item in elder.index]\n",
    "rainfall['wy'] = [item.year+1 if (item.month<=12)&(item.month>=10) else item.year for item in rainfall.index]\n",
    "elder = elder.loc['2000-10-01':'2018-12-30']\n",
    "rainfall = rainfall.loc['2000-10-01':'2018-12-30']"
   ]
  },
  {
   "cell_type": "code",
   "execution_count": 4,
   "metadata": {},
   "outputs": [
    {
     "ename": "NameError",
     "evalue": "name 'elder' is not defined",
     "output_type": "error",
     "traceback": [
      "\u001b[0;31m---------------------------------------------------------------------------\u001b[0m",
      "\u001b[0;31mNameError\u001b[0m                                 Traceback (most recent call last)",
      "\u001b[0;32m<ipython-input-4-8c0614454c6e>\u001b[0m in \u001b[0;36m<module>\u001b[0;34m\u001b[0m\n\u001b[0;32m----> 1\u001b[0;31m \u001b[0melder\u001b[0m\u001b[0;34m.\u001b[0m\u001b[0mindex\u001b[0m\u001b[0;34m.\u001b[0m\u001b[0myear\u001b[0m\u001b[0;34m\u001b[0m\u001b[0;34m\u001b[0m\u001b[0m\n\u001b[0m",
      "\u001b[0;31mNameError\u001b[0m: name 'elder' is not defined"
     ]
    }
   ],
   "source": [
    "elder.index.year"
   ]
  },
  {
   "cell_type": "code",
   "execution_count": null,
   "metadata": {},
   "outputs": [],
   "source": [
    "years = (list(set(elder.index.year)))\n",
    "years.sort()\n",
    "wyrain = []\n",
    "lowflow = []\n",
    "yearplot = []\n",
    "lowflowdate = []\n",
    "for year in years[1:]:\n",
    "    wystart = str(year-1) + '-10-01'\n",
    "    wyend = str(year) + '-9-1'\n",
    "    sd = str(year) + '-05-01'\n",
    "    ed = str(year) + '-12-01'\n",
    "    wyrain.append(rainfall.ppt.loc[wystart:wyend].sum())\n",
    "    lowflow.append(elder.q.loc[sd:ed].min())\n",
    "    lowflowdate.append(elder.q.loc[sd:ed].idxmin())\n",
    "    yearplot.append(year)\n",
    "    \n",
    "slope, intercept, r_value, p_value, std_err = stats.linregress(np.array(wyrain),np.array(lowflow))\n",
    "\n",
    "f,axs = plt.subplots(1,2,figsize=(10,4), sharey=True)\n",
    "cmap = ListedColormap(sns.color_palette('tab20',len(yearplot)).as_hex()).reversed()\n",
    "pal = np.flip(sns.color_palette('tab20',len(yearplot)).as_hex(), axis=0)\n",
    "ax = axs[1]\n",
    "sp = ax.scatter(wyrain, lowflow,c=yearplot,cmap=cmap,s=75,edgecolors='k')\n",
    "bounds = np.array([i for i in yearplot + [yearplot[-1]+1]])-0.5\n",
    "plt.colorbar(sp, ticks=[i for i in yearplot if i%1==0], boundaries=bounds)\n",
    "titlestr = 'Annual low flow vs. water year precipitation'\n",
    "titlestr += '\\nR$^2$ = %.2f, p-value on slope = %.2f'%(r_value**2, p_value)\n",
    "ax.set_title(titlestr, fontsize=10)\n",
    "ax.set_xlabel('Water year precipitation [mm]')\n",
    "ax.set_yscale('log')\n",
    "ax = axs[0]\n",
    "tp = range(2009,2019)\n",
    "labels = []\n",
    "handles = []\n",
    "for i,year in enumerate(years[1:]):\n",
    "    if year in tp:\n",
    "        sd = str(year) + '-4-01'\n",
    "        ed = lowflowdate[i]\n",
    "        toplot = elder.q.loc[sd:ed]\n",
    "        x = range(len(toplot))\n",
    "        h, = ax.plot(x,toplot,c=pal[i])\n",
    "        handles.append(h)\n",
    "        labels.append(year)        \n",
    "        ax.scatter(x[-1],toplot[-1],c=pal[i],s=75,edgecolors='k',zorder=100)\n",
    "    else:\n",
    "        continue\n",
    "ax.legend(labels, fontsize=10,ncol=2)\n",
    "ax.set_ylabel('Runoff [mm/day]')\n",
    "ax.yaxis.set_major_formatter(FormatStrFormatter('%.1f'))\n",
    "ax.set_title('Summer recessions, Elder Creek', fontsize=10)\n",
    "ax.set_xlabel('Days since April 1')\n",
    "f.tight_layout()\n",
    "f.savefig('../figures/lowflow_wyprecip.pdf')"
   ]
  }
 ],
 "metadata": {
  "kernelspec": {
   "display_name": "Python 3",
   "language": "python",
   "name": "python3"
  },
  "language_info": {
   "codemirror_mode": {
    "name": "ipython",
    "version": 3
   },
   "file_extension": ".py",
   "mimetype": "text/x-python",
   "name": "python",
   "nbconvert_exporter": "python",
   "pygments_lexer": "ipython3",
   "version": "3.6.7"
  }
 },
 "nbformat": 4,
 "nbformat_minor": 4
}
